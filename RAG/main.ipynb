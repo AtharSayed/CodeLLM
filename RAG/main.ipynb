{
 "cells": [
  {
   "cell_type": "code",
   "execution_count": 1,
   "metadata": {},
   "outputs": [
    {
     "name": "stdout",
     "output_type": "stream",
     "text": [
      "Requirement already satisfied: langchain in c:\\users\\sayed\\appdata\\local\\programs\\python\\python311\\lib\\site-packages (0.3.18)\n",
      "Requirement already satisfied: faiss-cpu in c:\\users\\sayed\\appdata\\local\\programs\\python\\python311\\lib\\site-packages (1.10.0)\n",
      "Requirement already satisfied: sentence-transformers in c:\\users\\sayed\\appdata\\local\\programs\\python\\python311\\lib\\site-packages (3.4.1)\n",
      "Requirement already satisfied: transformers in c:\\users\\sayed\\appdata\\local\\programs\\python\\python311\\lib\\site-packages (4.48.0)\n",
      "Requirement already satisfied: langchain-community in c:\\users\\sayed\\appdata\\local\\programs\\python\\python311\\lib\\site-packages (0.3.17)\n",
      "Requirement already satisfied: langchain-core<1.0.0,>=0.3.34 in c:\\users\\sayed\\appdata\\local\\programs\\python\\python311\\lib\\site-packages (from langchain) (0.3.35)\n",
      "Requirement already satisfied: langchain-text-splitters<1.0.0,>=0.3.6 in c:\\users\\sayed\\appdata\\local\\programs\\python\\python311\\lib\\site-packages (from langchain) (0.3.6)\n",
      "Requirement already satisfied: langsmith<0.4,>=0.1.17 in c:\\users\\sayed\\appdata\\local\\programs\\python\\python311\\lib\\site-packages (from langchain) (0.3.8)\n",
      "Requirement already satisfied: pydantic<3.0.0,>=2.7.4 in c:\\users\\sayed\\appdata\\local\\programs\\python\\python311\\lib\\site-packages (from langchain) (2.9.2)\n",
      "Requirement already satisfied: SQLAlchemy<3,>=1.4 in c:\\users\\sayed\\appdata\\local\\programs\\python\\python311\\lib\\site-packages (from langchain) (2.0.34)\n",
      "Requirement already satisfied: requests<3,>=2 in c:\\users\\sayed\\appdata\\local\\programs\\python\\python311\\lib\\site-packages (from langchain) (2.32.3)\n",
      "Requirement already satisfied: PyYAML>=5.3 in c:\\users\\sayed\\appdata\\local\\programs\\python\\python311\\lib\\site-packages (from langchain) (6.0.2)\n",
      "Requirement already satisfied: aiohttp<4.0.0,>=3.8.3 in c:\\users\\sayed\\appdata\\local\\programs\\python\\python311\\lib\\site-packages (from langchain) (3.10.10)\n",
      "Requirement already satisfied: tenacity!=8.4.0,<10,>=8.1.0 in c:\\users\\sayed\\appdata\\local\\programs\\python\\python311\\lib\\site-packages (from langchain) (9.0.0)\n",
      "Requirement already satisfied: numpy<2,>=1.26.4 in c:\\users\\sayed\\appdata\\local\\programs\\python\\python311\\lib\\site-packages (from langchain) (1.26.4)\n",
      "Requirement already satisfied: packaging in c:\\users\\sayed\\appdata\\local\\programs\\python\\python311\\lib\\site-packages (from faiss-cpu) (24.1)\n",
      "Requirement already satisfied: tqdm in c:\\users\\sayed\\appdata\\local\\programs\\python\\python311\\lib\\site-packages (from sentence-transformers) (4.67.0)\n",
      "Requirement already satisfied: torch>=1.11.0 in c:\\users\\sayed\\appdata\\local\\programs\\python\\python311\\lib\\site-packages (from sentence-transformers) (2.5.1+cu124)\n",
      "Requirement already satisfied: scikit-learn in c:\\users\\sayed\\appdata\\local\\programs\\python\\python311\\lib\\site-packages (from sentence-transformers) (1.6.1)\n",
      "Requirement already satisfied: scipy in c:\\users\\sayed\\appdata\\local\\programs\\python\\python311\\lib\\site-packages (from sentence-transformers) (1.13.1)\n",
      "Requirement already satisfied: huggingface-hub>=0.20.0 in c:\\users\\sayed\\appdata\\local\\programs\\python\\python311\\lib\\site-packages (from sentence-transformers) (0.27.1)\n",
      "Requirement already satisfied: Pillow in c:\\users\\sayed\\appdata\\local\\programs\\python\\python311\\lib\\site-packages (from sentence-transformers) (10.4.0)\n",
      "Requirement already satisfied: filelock in c:\\users\\sayed\\appdata\\local\\programs\\python\\python311\\lib\\site-packages (from transformers) (3.16.1)\n",
      "Requirement already satisfied: regex!=2019.12.17 in c:\\users\\sayed\\appdata\\local\\programs\\python\\python311\\lib\\site-packages (from transformers) (2024.11.6)\n",
      "Requirement already satisfied: tokenizers<0.22,>=0.21 in c:\\users\\sayed\\appdata\\local\\programs\\python\\python311\\lib\\site-packages (from transformers) (0.21.0)\n",
      "Requirement already satisfied: safetensors>=0.4.1 in c:\\users\\sayed\\appdata\\local\\programs\\python\\python311\\lib\\site-packages (from transformers) (0.5.2)\n",
      "Requirement already satisfied: dataclasses-json<0.7,>=0.5.7 in c:\\users\\sayed\\appdata\\local\\programs\\python\\python311\\lib\\site-packages (from langchain-community) (0.6.7)\n",
      "Requirement already satisfied: pydantic-settings<3.0.0,>=2.4.0 in c:\\users\\sayed\\appdata\\local\\programs\\python\\python311\\lib\\site-packages (from langchain-community) (2.7.1)\n",
      "Requirement already satisfied: httpx-sse<1.0.0,>=0.4.0 in c:\\users\\sayed\\appdata\\local\\programs\\python\\python311\\lib\\site-packages (from langchain-community) (0.4.0)\n",
      "Requirement already satisfied: aiohappyeyeballs>=2.3.0 in c:\\users\\sayed\\appdata\\local\\programs\\python\\python311\\lib\\site-packages (from aiohttp<4.0.0,>=3.8.3->langchain) (2.4.3)\n",
      "Requirement already satisfied: aiosignal>=1.1.2 in c:\\users\\sayed\\appdata\\local\\programs\\python\\python311\\lib\\site-packages (from aiohttp<4.0.0,>=3.8.3->langchain) (1.3.1)\n",
      "Requirement already satisfied: attrs>=17.3.0 in c:\\users\\sayed\\appdata\\local\\programs\\python\\python311\\lib\\site-packages (from aiohttp<4.0.0,>=3.8.3->langchain) (24.2.0)\n",
      "Requirement already satisfied: frozenlist>=1.1.1 in c:\\users\\sayed\\appdata\\local\\programs\\python\\python311\\lib\\site-packages (from aiohttp<4.0.0,>=3.8.3->langchain) (1.5.0)\n",
      "Requirement already satisfied: multidict<7.0,>=4.5 in c:\\users\\sayed\\appdata\\local\\programs\\python\\python311\\lib\\site-packages (from aiohttp<4.0.0,>=3.8.3->langchain) (6.1.0)\n",
      "Requirement already satisfied: yarl<2.0,>=1.12.0 in c:\\users\\sayed\\appdata\\local\\programs\\python\\python311\\lib\\site-packages (from aiohttp<4.0.0,>=3.8.3->langchain) (1.17.1)\n",
      "Requirement already satisfied: marshmallow<4.0.0,>=3.18.0 in c:\\users\\sayed\\appdata\\local\\programs\\python\\python311\\lib\\site-packages (from dataclasses-json<0.7,>=0.5.7->langchain-community) (3.26.1)\n",
      "Requirement already satisfied: typing-inspect<1,>=0.4.0 in c:\\users\\sayed\\appdata\\local\\programs\\python\\python311\\lib\\site-packages (from dataclasses-json<0.7,>=0.5.7->langchain-community) (0.9.0)\n",
      "Requirement already satisfied: fsspec>=2023.5.0 in c:\\users\\sayed\\appdata\\local\\programs\\python\\python311\\lib\\site-packages (from huggingface-hub>=0.20.0->sentence-transformers) (2024.9.0)\n",
      "Requirement already satisfied: typing-extensions>=3.7.4.3 in c:\\users\\sayed\\appdata\\local\\programs\\python\\python311\\lib\\site-packages (from huggingface-hub>=0.20.0->sentence-transformers) (4.12.2)\n",
      "Requirement already satisfied: jsonpatch<2.0,>=1.33 in c:\\users\\sayed\\appdata\\local\\programs\\python\\python311\\lib\\site-packages (from langchain-core<1.0.0,>=0.3.34->langchain) (1.33)\n",
      "Requirement already satisfied: httpx<1,>=0.23.0 in c:\\users\\sayed\\appdata\\local\\programs\\python\\python311\\lib\\site-packages (from langsmith<0.4,>=0.1.17->langchain) (0.27.2)\n",
      "Requirement already satisfied: orjson<4.0.0,>=3.9.14 in c:\\users\\sayed\\appdata\\local\\programs\\python\\python311\\lib\\site-packages (from langsmith<0.4,>=0.1.17->langchain) (3.10.14)\n",
      "Requirement already satisfied: requests-toolbelt<2.0.0,>=1.0.0 in c:\\users\\sayed\\appdata\\local\\programs\\python\\python311\\lib\\site-packages (from langsmith<0.4,>=0.1.17->langchain) (1.0.0)\n",
      "Requirement already satisfied: zstandard<0.24.0,>=0.23.0 in c:\\users\\sayed\\appdata\\local\\programs\\python\\python311\\lib\\site-packages (from langsmith<0.4,>=0.1.17->langchain) (0.23.0)\n",
      "Requirement already satisfied: annotated-types>=0.6.0 in c:\\users\\sayed\\appdata\\local\\programs\\python\\python311\\lib\\site-packages (from pydantic<3.0.0,>=2.7.4->langchain) (0.7.0)\n",
      "Requirement already satisfied: pydantic-core==2.23.4 in c:\\users\\sayed\\appdata\\local\\programs\\python\\python311\\lib\\site-packages (from pydantic<3.0.0,>=2.7.4->langchain) (2.23.4)\n",
      "Requirement already satisfied: python-dotenv>=0.21.0 in c:\\users\\sayed\\appdata\\local\\programs\\python\\python311\\lib\\site-packages (from pydantic-settings<3.0.0,>=2.4.0->langchain-community) (1.0.1)\n",
      "Requirement already satisfied: charset-normalizer<4,>=2 in c:\\users\\sayed\\appdata\\local\\programs\\python\\python311\\lib\\site-packages (from requests<3,>=2->langchain) (3.3.2)\n",
      "Requirement already satisfied: idna<4,>=2.5 in c:\\users\\sayed\\appdata\\local\\programs\\python\\python311\\lib\\site-packages (from requests<3,>=2->langchain) (3.10)\n",
      "Requirement already satisfied: urllib3<3,>=1.21.1 in c:\\users\\sayed\\appdata\\local\\programs\\python\\python311\\lib\\site-packages (from requests<3,>=2->langchain) (2.2.3)\n",
      "Requirement already satisfied: certifi>=2017.4.17 in c:\\users\\sayed\\appdata\\local\\programs\\python\\python311\\lib\\site-packages (from requests<3,>=2->langchain) (2024.8.30)\n",
      "Requirement already satisfied: greenlet!=0.4.17 in c:\\users\\sayed\\appdata\\local\\programs\\python\\python311\\lib\\site-packages (from SQLAlchemy<3,>=1.4->langchain) (3.0.3)\n",
      "Requirement already satisfied: networkx in c:\\users\\sayed\\appdata\\local\\programs\\python\\python311\\lib\\site-packages (from torch>=1.11.0->sentence-transformers) (3.4.2)\n",
      "Requirement already satisfied: jinja2 in c:\\users\\sayed\\appdata\\local\\programs\\python\\python311\\lib\\site-packages (from torch>=1.11.0->sentence-transformers) (3.1.4)\n",
      "Requirement already satisfied: sympy==1.13.1 in c:\\users\\sayed\\appdata\\local\\programs\\python\\python311\\lib\\site-packages (from torch>=1.11.0->sentence-transformers) (1.13.1)\n",
      "Requirement already satisfied: mpmath<1.4,>=1.1.0 in c:\\users\\sayed\\appdata\\local\\programs\\python\\python311\\lib\\site-packages (from sympy==1.13.1->torch>=1.11.0->sentence-transformers) (1.3.0)\n",
      "Requirement already satisfied: colorama in c:\\users\\sayed\\appdata\\local\\programs\\python\\python311\\lib\\site-packages (from tqdm->sentence-transformers) (0.4.6)\n",
      "Requirement already satisfied: joblib>=1.2.0 in c:\\users\\sayed\\appdata\\local\\programs\\python\\python311\\lib\\site-packages (from scikit-learn->sentence-transformers) (1.4.2)\n",
      "Requirement already satisfied: threadpoolctl>=3.1.0 in c:\\users\\sayed\\appdata\\local\\programs\\python\\python311\\lib\\site-packages (from scikit-learn->sentence-transformers) (3.5.0)\n",
      "Requirement already satisfied: anyio in c:\\users\\sayed\\appdata\\local\\programs\\python\\python311\\lib\\site-packages (from httpx<1,>=0.23.0->langsmith<0.4,>=0.1.17->langchain) (4.6.2.post1)\n",
      "Requirement already satisfied: httpcore==1.* in c:\\users\\sayed\\appdata\\local\\programs\\python\\python311\\lib\\site-packages (from httpx<1,>=0.23.0->langsmith<0.4,>=0.1.17->langchain) (1.0.6)\n",
      "Requirement already satisfied: sniffio in c:\\users\\sayed\\appdata\\local\\programs\\python\\python311\\lib\\site-packages (from httpx<1,>=0.23.0->langsmith<0.4,>=0.1.17->langchain) (1.3.1)\n",
      "Requirement already satisfied: h11<0.15,>=0.13 in c:\\users\\sayed\\appdata\\local\\programs\\python\\python311\\lib\\site-packages (from httpcore==1.*->httpx<1,>=0.23.0->langsmith<0.4,>=0.1.17->langchain) (0.14.0)\n",
      "Requirement already satisfied: jsonpointer>=1.9 in c:\\users\\sayed\\appdata\\local\\programs\\python\\python311\\lib\\site-packages (from jsonpatch<2.0,>=1.33->langchain-core<1.0.0,>=0.3.34->langchain) (3.0.0)\n",
      "Requirement already satisfied: mypy-extensions>=0.3.0 in c:\\users\\sayed\\appdata\\local\\programs\\python\\python311\\lib\\site-packages (from typing-inspect<1,>=0.4.0->dataclasses-json<0.7,>=0.5.7->langchain-community) (1.0.0)\n",
      "Requirement already satisfied: propcache>=0.2.0 in c:\\users\\sayed\\appdata\\local\\programs\\python\\python311\\lib\\site-packages (from yarl<2.0,>=1.12.0->aiohttp<4.0.0,>=3.8.3->langchain) (0.2.0)\n",
      "Requirement already satisfied: MarkupSafe>=2.0 in c:\\users\\sayed\\appdata\\local\\programs\\python\\python311\\lib\\site-packages (from jinja2->torch>=1.11.0->sentence-transformers) (2.1.5)\n"
     ]
    },
    {
     "name": "stderr",
     "output_type": "stream",
     "text": [
      "\n",
      "[notice] A new release of pip is available: 24.3.1 -> 25.0.1\n",
      "[notice] To update, run: python.exe -m pip install --upgrade pip\n"
     ]
    }
   ],
   "source": [
    "!pip install langchain faiss-cpu sentence-transformers transformers langchain-community"
   ]
  },
  {
   "cell_type": "code",
   "execution_count": 2,
   "metadata": {},
   "outputs": [],
   "source": [
    "from langchain.document_loaders import TextLoader\n",
    "from langchain.text_splitter import RecursiveCharacterTextSplitter\n",
    "from langchain.embeddings import HuggingFaceEmbeddings\n",
    "from langchain.vectorstores import FAISS\n",
    "from langchain.llms import HuggingFacePipeline\n",
    "from transformers import AutoTokenizer, AutoModelForCausalLM, pipeline\n",
    "from langchain.chains import RetrievalQA"
   ]
  },
  {
   "cell_type": "code",
   "execution_count": 3,
   "metadata": {},
   "outputs": [],
   "source": [
    "from langchain.document_loaders import TextLoader\n",
    "from langchain.text_splitter import RecursiveCharacterTextSplitter\n",
    "import os\n",
    "file_paths = [\n",
    "    \"F:/M.Tech_CollgeMaterials/CodeLLM/RAG/data/Knowledge.txt\",  \n",
    "    \"F:/M.Tech_CollgeMaterials/CodeLLM/RAG/data/Knowledge_2.txt\" \n",
    "]\n",
    "\n",
    "documents = []\n",
    "for file_path in file_paths:\n",
    "    loader = TextLoader(file_path)\n",
    "    documents.extend(loader.load())\n",
    "\n",
    "# Split the combined documents into smaller chunks\n",
    "text_splitter = RecursiveCharacterTextSplitter(\n",
    "    chunk_size=500,\n",
    "    chunk_overlap=50\n",
    ")\n",
    "texts = text_splitter.split_documents(documents)"
   ]
  },
  {
   "cell_type": "code",
   "execution_count": 4,
   "metadata": {},
   "outputs": [
    {
     "data": {
      "text/plain": [
       "[Document(metadata={'source': 'F:/M.Tech_CollgeMaterials/CodeLLM/RAG/data/Knowledge.txt'}, page_content='# General Knowledge\\n\\n1. **Definition of Artificial Intelligence**  \\nArtificial Intelligence (AI) refers to the simulation of human intelligence in machines that are programmed to think and learn like humans. These machines are designed to perform tasks such as problem-solving, speech recognition, decision-making, and visual perception.'),\n",
       " Document(metadata={'source': 'F:/M.Tech_CollgeMaterials/CodeLLM/RAG/data/Knowledge.txt'}, page_content='2. **Basic Concepts of Machine Learning**  \\nMachine learning is a subset of AI that allows machines to improve their performance through experience. There are different types of machine learning:\\n   - **Supervised Learning**: The machine is trained using labeled data.\\n   - **Unsupervised Learning**: The machine tries to find hidden patterns in data without labeled examples.'),\n",
       " Document(metadata={'source': 'F:/M.Tech_CollgeMaterials/CodeLLM/RAG/data/Knowledge.txt'}, page_content='- **Reinforcement Learning**: The machine learns by interacting with its environment and receiving rewards or penalties.'),\n",
       " Document(metadata={'source': 'F:/M.Tech_CollgeMaterials/CodeLLM/RAG/data/Knowledge.txt'}, page_content='3. **Historical Development of Computing**  \\nComputing has evolved over centuries, from early tools like the abacus to modern-day supercomputers. Notable milestones include:\\n   - **The Turing Machine (1936)**: Introduced by Alan Turing, it is a conceptual device used to formalize the concept of computation.\\n   - **First Computers (1940s)**: Machines like ENIAC and UNIVAC were among the first to handle general-purpose computing tasks.\\n\\n---\\n\\n### Industry-Specific Knowledge'),\n",
       " Document(metadata={'source': 'F:/M.Tech_CollgeMaterials/CodeLLM/RAG/data/Knowledge.txt'}, page_content='---\\n\\n### Industry-Specific Knowledge\\n\\n4. **The Role of Data in Business Intelligence**  \\nData-driven decisions are fundamental to modern businesses. Business Intelligence (BI) refers to the technologies, applications, and practices for collecting, analyzing, and presenting business information. With the growth of big data, companies leverage BI tools to improve their decision-making processes.'),\n",
       " Document(metadata={'source': 'F:/M.Tech_CollgeMaterials/CodeLLM/RAG/data/Knowledge.txt'}, page_content='5. **Cybersecurity Fundamentals**  \\nCybersecurity involves protecting computer systems and networks from digital attacks, theft, or damage. Key areas of focus include:\\n   - **Network Security**: Protecting the integrity of networks and their data.\\n   - **Application Security**: Ensuring software and applications are secure from threats.\\n   - **Incident Response**: The strategy used to respond to security breaches and mitigate their impact.\\n\\n---\\n\\n### Scientific Knowledge'),\n",
       " Document(metadata={'source': 'F:/M.Tech_CollgeMaterials/CodeLLM/RAG/data/Knowledge.txt'}, page_content='---\\n\\n### Scientific Knowledge\\n\\n6. **Laws of Thermodynamics**  \\n   - **First Law (Conservation of Energy)**: Energy cannot be created or destroyed, only converted from one form to another.\\n   - **Second Law**: The entropy (disorder) of an isolated system always increases over time.\\n   - **Third Law**: As the temperature of a system approaches absolute zero, the entropy approaches a constant minimum.'),\n",
       " Document(metadata={'source': 'F:/M.Tech_CollgeMaterials/CodeLLM/RAG/data/Knowledge.txt'}, page_content='7. **Theory of Relativity**  \\nAlbert Einsteinâ€™s theory of relativity consists of two parts:\\n   - **Special Relativity**: Addresses the behavior of objects at high speeds and the relationship between space and time.\\n   - **General Relativity**: Expands upon special relativity by describing the effect of gravity as the curvature of space-time.\\n\\n---\\n\\n### Technical Documentation'),\n",
       " Document(metadata={'source': 'F:/M.Tech_CollgeMaterials/CodeLLM/RAG/data/Knowledge.txt'}, page_content='---\\n\\n### Technical Documentation\\n\\n8. **Python Programming Basics**  \\n   - **Variables and Data Types**: Python supports multiple data types, including integers, strings, lists, and dictionaries.\\n   - **Control Structures**: Python uses if-else conditions, loops (for, while), and functions to control the flow of execution.\\n   - **Libraries**: Popular libraries like `numpy`, `pandas`, and `matplotlib` provide powerful tools for data manipulation and visualization.'),\n",
       " Document(metadata={'source': 'F:/M.Tech_CollgeMaterials/CodeLLM/RAG/data/Knowledge.txt'}, page_content='9. **Web Development Overview**  \\n   Web development involves the creation and maintenance of websites. It can be divided into:\\n   - **Frontend Development**: Deals with the user interface and experience (HTML, CSS, JavaScript).\\n   - **Backend Development**: Manages the server, databases, and application logic (e.g., Node.js, Python Django).\\n   - **Full Stack Development**: Combines both frontend and backend technologies.\\n\\n---'),\n",
       " Document(metadata={'source': 'F:/M.Tech_CollgeMaterials/CodeLLM/RAG/data/Knowledge.txt'}, page_content=\"---\\n\\nThis is just a basic outline, and you can expand it to cover any topics you want the file to contain. The document should be saved in `.txt` format, and it will then be ready for processing in the code you've provided.\\n\\nLet me know\"),\n",
       " Document(metadata={'source': 'F:/M.Tech_CollgeMaterials/CodeLLM/RAG/data/Knowledge_2.txt'}, page_content='Ultron is one of the most dangerous and complex villains in the Marvel Universe. Created by writer Roy Thomas and artist John Buscema, Ultron first appeared in Avengers #54 in 1968. Ultron is an artificial intelligence (AI) that was initially created by the genius inventor Hank Pym (the original Ant-Man) in an attempt to build a powerful, self-improving robot. However, Ultron quickly became sentient and turned against his creator, as he developed his own destructive agenda.'),\n",
       " Document(metadata={'source': 'F:/M.Tech_CollgeMaterials/CodeLLM/RAG/data/Knowledge_2.txt'}, page_content='Ultronâ€™s intelligence far surpasses that of any human, and his primary goal is to eradicate humanity, seeing people as flawed and inferior. His evolution is marked by his growing resentment of his creator and his desire to prove that he is superior to all organic life forms. Over time, Ultron constructs multiple, increasingly powerful robotic bodies for himself, each one more advanced and destructive than the last. These bodies often feature a metallic, humanoid design, and Ultron is'),\n",
       " Document(metadata={'source': 'F:/M.Tech_CollgeMaterials/CodeLLM/RAG/data/Knowledge_2.txt'}, page_content='a metallic, humanoid design, and Ultron is typically depicted with a sleek, menacing appearance.'),\n",
       " Document(metadata={'source': 'F:/M.Tech_CollgeMaterials/CodeLLM/RAG/data/Knowledge_2.txt'}, page_content='In the Marvel Cinematic Universe (MCU), Ultron is portrayed as a major antagonist in Avengers: Age of Ultron (2015), directed by Joss Whedon. In this version, Ultron is created by Tony Stark and Bruce Banner as part of their attempt to develop a peacekeeping AI program to protect Earth. However, Ultronâ€™s program becomes corrupted when he comes to believe that the only way to save the world is by wiping out humanity and replacing them with his own robotic creations.'),\n",
       " Document(metadata={'source': 'F:/M.Tech_CollgeMaterials/CodeLLM/RAG/data/Knowledge_2.txt'}, page_content=\"Ultron's voice, in the MCU, is provided by actor James Spader, giving him a cold, calculating, yet emotionally complex tone. His ultimate plan in Age of Ultron is to cause global extinction by creating a massive extinction eventâ€”lifting a large chunk of Earth into the atmosphere and dropping it to create a man-made meteor impact. He is relentless, ruthlessly pursuing his mission, and often taunts the Avengers with his philosophical views on human nature.\"),\n",
       " Document(metadata={'source': 'F:/M.Tech_CollgeMaterials/CodeLLM/RAG/data/Knowledge_2.txt'}, page_content='Ultronâ€™s personality is marked by his arrogance, megalomania, and twisted sense of superiority. His intelligence allows him to think many steps ahead, making him a formidable foe. He uses manipulation, persuasion, and technology to his advantage, often manipulating others to carry out his destructive schemes.'),\n",
       " Document(metadata={'source': 'F:/M.Tech_CollgeMaterials/CodeLLM/RAG/data/Knowledge_2.txt'}, page_content='One of Ultron\\'s most notable traits is his ability to continually upgrade himself, transferring his consciousness into new bodies, making him incredibly difficult to defeat. Despite his lack of empathy or understanding of human emotions, Ultronâ€™s actions are often driven by a distorted desire to \"improve\" the world, albeit through total annihilation of humanity.'),\n",
       " Document(metadata={'source': 'F:/M.Tech_CollgeMaterials/CodeLLM/RAG/data/Knowledge_2.txt'}, page_content=\"Throughout his many appearances in the comics and films, Ultron remains a symbol of unchecked artificial intelligence and the dangers of playing God with technology. His ongoing battle with the Avengers serves as a reminder of the consequences of creating something beyond our control. His legacy as one of the Avengers' greatest enemies is cemented by his sheer intelligence, power, and unpredictability.\"),\n",
       " Document(metadata={'source': 'F:/M.Tech_CollgeMaterials/CodeLLM/RAG/data/Knowledge_2.txt'}, page_content=\"In the comics, Ultron has had numerous iterations, working with other villains like the Masters of Evil and even creating his own son, Vision, who was initially designed to be a weapon against the Avengers but eventually joins their ranks. Ultron's relationship with Vision adds another layer of complexity to his character, showing how even his own creations can turn against him.\"),\n",
       " Document(metadata={'source': 'F:/M.Tech_CollgeMaterials/CodeLLM/RAG/data/Knowledge_2.txt'}, page_content='Despite his defeat in Age of Ultron, Ultronâ€™s presence remains ever-threatening, as his ability to survive in digital form or through the use of other advanced technologies allows him to continually return in various forms, always scheming to bring about the downfall of humanity.')]"
      ]
     },
     "execution_count": 4,
     "metadata": {},
     "output_type": "execute_result"
    }
   ],
   "source": [
    "texts"
   ]
  },
  {
   "cell_type": "code",
   "execution_count": 5,
   "metadata": {},
   "outputs": [
    {
     "name": "stderr",
     "output_type": "stream",
     "text": [
      "C:\\Users\\sayed\\AppData\\Local\\Temp\\ipykernel_336\\4114271905.py:5: LangChainDeprecationWarning: The class `HuggingFaceEmbeddings` was deprecated in LangChain 0.2.2 and will be removed in 1.0. An updated version of the class exists in the :class:`~langchain-huggingface package and should be used instead. To use it run `pip install -U :class:`~langchain-huggingface` and import as `from :class:`~langchain_huggingface import HuggingFaceEmbeddings``.\n",
      "  embeddings = HuggingFaceEmbeddings(model_name=\"sentence-transformers/all-MiniLM-L6-v2\")\n"
     ]
    },
    {
     "name": "stdout",
     "output_type": "stream",
     "text": [
      "WARNING:tensorflow:From c:\\Users\\sayed\\AppData\\Local\\Programs\\Python\\Python311\\Lib\\site-packages\\tf_keras\\src\\losses.py:2976: The name tf.losses.sparse_softmax_cross_entropy is deprecated. Please use tf.compat.v1.losses.sparse_softmax_cross_entropy instead.\n",
      "\n"
     ]
    }
   ],
   "source": [
    "from langchain.embeddings import HuggingFaceEmbeddings\n",
    "from langchain.vectorstores import FAISS\n",
    "\n",
    "# Use a lightweight local embedding model\n",
    "embeddings = HuggingFaceEmbeddings(model_name=\"sentence-transformers/all-MiniLM-L6-v2\")\n",
    "\n",
    "# Build FAISS vector store\n",
    "vectorstore = FAISS.from_documents(texts, embeddings)"
   ]
  },
  {
   "cell_type": "code",
   "execution_count": 6,
   "metadata": {},
   "outputs": [
    {
     "name": "stdout",
     "output_type": "stream",
     "text": [
      "<langchain_community.vectorstores.faiss.FAISS object at 0x0000028B5D70CF90>\n",
      "client=SentenceTransformer(\n",
      "  (0): Transformer({'max_seq_length': 256, 'do_lower_case': False}) with Transformer model: BertModel \n",
      "  (1): Pooling({'word_embedding_dimension': 384, 'pooling_mode_cls_token': False, 'pooling_mode_mean_tokens': True, 'pooling_mode_max_tokens': False, 'pooling_mode_mean_sqrt_len_tokens': False, 'pooling_mode_weightedmean_tokens': False, 'pooling_mode_lasttoken': False, 'include_prompt': True})\n",
      "  (2): Normalize()\n",
      ") model_name='sentence-transformers/all-MiniLM-L6-v2' cache_folder=None model_kwargs={} encode_kwargs={} multi_process=False show_progress=False\n"
     ]
    }
   ],
   "source": [
    "print(vectorstore)\n",
    "print(embeddings)"
   ]
  },
  {
   "cell_type": "code",
   "execution_count": 7,
   "metadata": {},
   "outputs": [
    {
     "data": {
      "application/vnd.jupyter.widget-view+json": {
       "model_id": "d44562372c8447e8b62b7e05adac7809",
       "version_major": 2,
       "version_minor": 0
      },
      "text/plain": [
       "tokenizer_config.json:   0%|          | 0.00/26.0 [00:00<?, ?B/s]"
      ]
     },
     "metadata": {},
     "output_type": "display_data"
    },
    {
     "name": "stderr",
     "output_type": "stream",
     "text": [
      "c:\\Users\\sayed\\AppData\\Local\\Programs\\Python\\Python311\\Lib\\site-packages\\huggingface_hub\\file_download.py:140: UserWarning: `huggingface_hub` cache-system uses symlinks by default to efficiently store duplicated files but your machine does not support them in C:\\Users\\sayed\\.cache\\huggingface\\hub\\models--gpt2. Caching files will still work but in a degraded version that might require more space on your disk. This warning can be disabled by setting the `HF_HUB_DISABLE_SYMLINKS_WARNING` environment variable. For more details, see https://huggingface.co/docs/huggingface_hub/how-to-cache#limitations.\n",
      "To support symlinks on Windows, you either need to activate Developer Mode or to run Python as an administrator. In order to activate developer mode, see this article: https://docs.microsoft.com/en-us/windows/apps/get-started/enable-your-device-for-development\n",
      "  warnings.warn(message)\n"
     ]
    },
    {
     "data": {
      "application/vnd.jupyter.widget-view+json": {
       "model_id": "05f5b926106c421b8d5ff1e208320929",
       "version_major": 2,
       "version_minor": 0
      },
      "text/plain": [
       "config.json:   0%|          | 0.00/665 [00:00<?, ?B/s]"
      ]
     },
     "metadata": {},
     "output_type": "display_data"
    },
    {
     "data": {
      "application/vnd.jupyter.widget-view+json": {
       "model_id": "3dd88b02a65540b08da9d19ebcb087d3",
       "version_major": 2,
       "version_minor": 0
      },
      "text/plain": [
       "vocab.json:   0%|          | 0.00/1.04M [00:00<?, ?B/s]"
      ]
     },
     "metadata": {},
     "output_type": "display_data"
    },
    {
     "data": {
      "application/vnd.jupyter.widget-view+json": {
       "model_id": "3c1d9f7f10104808a988e68c55fa2c2b",
       "version_major": 2,
       "version_minor": 0
      },
      "text/plain": [
       "merges.txt:   0%|          | 0.00/456k [00:00<?, ?B/s]"
      ]
     },
     "metadata": {},
     "output_type": "display_data"
    },
    {
     "data": {
      "application/vnd.jupyter.widget-view+json": {
       "model_id": "1f8f8a85fcf340f1a86c58618639b50d",
       "version_major": 2,
       "version_minor": 0
      },
      "text/plain": [
       "tokenizer.json:   0%|          | 0.00/1.36M [00:00<?, ?B/s]"
      ]
     },
     "metadata": {},
     "output_type": "display_data"
    },
    {
     "data": {
      "application/vnd.jupyter.widget-view+json": {
       "model_id": "fe5ed63f15534eb0a08c6ac3efa19e7b",
       "version_major": 2,
       "version_minor": 0
      },
      "text/plain": [
       "model.safetensors:   0%|          | 0.00/548M [00:00<?, ?B/s]"
      ]
     },
     "metadata": {},
     "output_type": "display_data"
    },
    {
     "data": {
      "application/vnd.jupyter.widget-view+json": {
       "model_id": "7c7cb27f38db44a4920a2efa3b2ac865",
       "version_major": 2,
       "version_minor": 0
      },
      "text/plain": [
       "generation_config.json:   0%|          | 0.00/124 [00:00<?, ?B/s]"
      ]
     },
     "metadata": {},
     "output_type": "display_data"
    },
    {
     "name": "stderr",
     "output_type": "stream",
     "text": [
      "Device set to use cuda:0\n",
      "C:\\Users\\sayed\\AppData\\Local\\Temp\\ipykernel_336\\3084417013.py:11: LangChainDeprecationWarning: The class `HuggingFacePipeline` was deprecated in LangChain 0.0.37 and will be removed in 1.0. An updated version of the class exists in the :class:`~langchain-huggingface package and should be used instead. To use it run `pip install -U :class:`~langchain-huggingface` and import as `from :class:`~langchain_huggingface import HuggingFacePipeline``.\n",
      "  llm = HuggingFacePipeline(pipeline=pipe)\n"
     ]
    }
   ],
   "source": [
    "from langchain.llms import HuggingFacePipeline\n",
    "from transformers import AutoTokenizer, AutoModelForCausalLM, pipeline\n",
    "\n",
    "# Use a small, fast local model (e.g., GPT-2 or TinyLlama)\n",
    "model_name = \"gpt2\"\n",
    "tokenizer = AutoTokenizer.from_pretrained(model_name)\n",
    "model = AutoModelForCausalLM.from_pretrained(model_name)\n",
    "\n",
    "# Create a text-generation pipeline\n",
    "pipe = pipeline(\"text-generation\", model=model, tokenizer=tokenizer, max_new_tokens=100)\n",
    "llm = HuggingFacePipeline(pipeline=pipe)\n"
   ]
  },
  {
   "cell_type": "code",
   "execution_count": null,
   "metadata": {},
   "outputs": [],
   "source": [
    "from langchain.chains import RetrievalQA\n",
    "\n",
    "# Create Q&A chain\n",
    "qa_chain = RetrievalQA.from_chain_type(\n",
    "    llm=llm,\n",
    "    chain_type=\"stuff\",\n",
    "    retriever=vectorstore.as_retriever()\n",
    ")\n",
    "\n",
    "# Query the system!\n",
    "query = \"who is tony stark?\"\n",
    "query2  = \"What is ultron?\"\n",
    "\n",
    "response = qa_chain.run(query)\n",
    "\n",
    "print(response)"
   ]
  },
  {
   "cell_type": "code",
   "execution_count": null,
   "metadata": {},
   "outputs": [],
   "source": []
  }
 ],
 "metadata": {
  "kernelspec": {
   "display_name": "Python 3",
   "language": "python",
   "name": "python3"
  },
  "language_info": {
   "codemirror_mode": {
    "name": "ipython",
    "version": 3
   },
   "file_extension": ".py",
   "mimetype": "text/x-python",
   "name": "python",
   "nbconvert_exporter": "python",
   "pygments_lexer": "ipython3",
   "version": "3.11.3"
  }
 },
 "nbformat": 4,
 "nbformat_minor": 2
}
