{
 "cells": [
  {
   "cell_type": "code",
   "execution_count": null,
   "metadata": {},
   "outputs": [
    {
     "name": "stderr",
     "output_type": "stream",
     "text": [
      "[nltk_data] Downloading package punkt to\n",
      "[nltk_data]     C:\\Users\\sayed\\AppData\\Roaming\\nltk_data...\n",
      "[nltk_data]   Package punkt is already up-to-date!\n",
      "[nltk_data] Downloading package stopwords to\n",
      "[nltk_data]     C:\\Users\\sayed\\AppData\\Roaming\\nltk_data...\n",
      "[nltk_data]   Package stopwords is already up-to-date!\n"
     ]
    }
   ],
   "source": [
    "import nltk\n",
    "import string\n",
    "import re\n",
    "from collections import (\n",
    "    defaultdict,\n",
    ")  \n",
    "from nltk.tokenize import word_tokenize\n",
    "from nltk.corpus import stopwords\n",
    "\n",
    "nltk.download(\"punkt\")\n",
    "nltk.download(\"stopwords\")\n",
    "\n",
    "def preprocess(file_path):\n",
    "    try:\n",
    "        with open(file_path, 'r', encoding='utf-8') as file:\n",
    "            text = file.read()\n",
    "            text = text.lower()\n",
    "            text = text.translate(str.maketrans(\"\", \"\", string.punctuation))  \n",
    "            tokens = text.split()  \n",
    "            return tokens\n",
    "    except FileNotFoundError:\n",
    "        print(f\"Error: The file at {file_path} was not found.\")\n",
    "        return []\n",
    "    except UnicodeDecodeError as e:\n",
    "        print(f\"Error: Could not decode the file {file_path} due to encoding issue. {e}\")\n",
    "        return []\n",
    "\n",
    "def tokenize_text(tokens):\n",
    "    return word_tokenize(' '.join(tokens))  # Rejoin the tokens into text for word_tokenize\n",
    "\n",
    "if __name__ == \"__main__\":\n",
    "    file_path = r\"F:\\M.Tech_CollgeMaterials\\CodeLLM\\PracticalLabs\\Lb3\\data\\SMSSpamCollection\"\n",
    "\n",
    "    preproc = preprocess(file_path)\n",
    "    tokens = tokenize_text(preproc)\n",
    "    print(\"Preprocessed text:\", preproc)\n",
    "    print(\"Tokenized text:\", tokens)\n",
    "    vocab = defaultdict(int)\n",
    "    sorted_vocab = dict(sorted(vocab.items(), key=lambda x: x[1], reverse=True))\n",
    "    print(\"Vocabulary with Frequencies:\", sorted_vocab)\n",
    "\n",
    "\n"
   ]
  },
  {
   "cell_type": "code",
   "execution_count": null,
   "metadata": {},
   "outputs": [],
   "source": []
  }
 ],
 "metadata": {
  "kernelspec": {
   "display_name": "Python 3",
   "language": "python",
   "name": "python3"
  },
  "language_info": {
   "codemirror_mode": {
    "name": "ipython",
    "version": 3
   },
   "file_extension": ".py",
   "mimetype": "text/x-python",
   "name": "python",
   "nbconvert_exporter": "python",
   "pygments_lexer": "ipython3",
   "version": "3.11.3"
  }
 },
 "nbformat": 4,
 "nbformat_minor": 2
}
